{
  "cells": [
    {
      "cell_type": "code",
      "execution_count": 50,
      "metadata": {
        "colab": {
          "base_uri": "https://localhost:8080/"
        },
        "id": "RZMUD3TSMqof",
        "outputId": "1b621af5-1004-4426-fbbc-7d142540e862"
      },
      "outputs": [
        {
          "name": "stdout",
          "output_type": "stream",
          "text": [
            "Cloning into 'TreeSandBox'...\n",
            "remote: Enumerating objects: 21, done.\u001b[K\n",
            "remote: Counting objects: 100% (21/21), done.\u001b[K\n",
            "remote: Compressing objects: 100% (19/19), done.\u001b[K\n",
            "remote: Total 21 (delta 3), reused 0 (delta 0), pack-reused 0\u001b[K\n",
            "Receiving objects: 100% (21/21), 32.43 KiB | 1.16 MiB/s, done.\n",
            "Resolving deltas: 100% (3/3), done.\n"
          ]
        }
      ],
      "source": [
        "#!git clone -b prune-experiment https://github.com/atikul-islam-sajib/TreeBasedModel.git\n",
        "!git clone -b prune-experiment https://github.com/markusloecher/TreeSandBox.git"
      ]
    },
    {
      "cell_type": "code",
      "execution_count": 52,
      "metadata": {
        "colab": {
          "base_uri": "https://localhost:8080/"
        },
        "id": "02fYDUwCMywU",
        "outputId": "1ec653a8-2b51-48a8-8b22-387450c5a115"
      },
      "outputs": [
        {
          "name": "stdout",
          "output_type": "stream",
          "text": [
            "/Users/loecherm/Nextcloud2/SHKs/Atikul/TreeSandBox\n"
          ]
        }
      ],
      "source": [
        "%cd TreeSandBox"
      ]
    },
    {
      "cell_type": "code",
      "execution_count": null,
      "metadata": {},
      "outputs": [],
      "source": [
        "!pip install -e . --verbose"
      ]
    },
    {
      "cell_type": "code",
      "execution_count": 54,
      "metadata": {
        "colab": {
          "base_uri": "https://localhost:8080/"
        },
        "id": "r1rI9F31M-4J",
        "outputId": "a75b1fbc-4a6d-4cfc-e1fe-70511facef79"
      },
      "outputs": [],
      "source": [
        "from sklearn.datasets import make_classification\n",
        "from sklearn.model_selection import train_test_split\n",
        "import pandas as pd\n",
        "#import numpy as np\n",
        "#from sklearn.metrics import accuracy_score\n",
        "from TreeModelsFromScratch.RandomForest import RandomForest\n",
        "from copy import deepcopy"
      ]
    },
    {
      "cell_type": "code",
      "execution_count": 21,
      "metadata": {},
      "outputs": [
        {
          "name": "stderr",
          "output_type": "stream",
          "text": [
            "25 out of 75 samples do not have OOB scores. This probably means too few trees were used to compute any reliable OOB estimates. These samples were dropped before computing the oob_score\n"
          ]
        }
      ],
      "source": [
        "# Generate synthetic dataset\n",
        "X, y = make_classification(n_samples=100, n_features=20, n_informative=10, n_redundant=10, n_clusters_per_class=2, random_state=42)\n",
        "X = pd.DataFrame(X)\n",
        "y = pd.Series(y)\n",
        "\n",
        "# Split dataset\n",
        "X_train, X_test, y_train, y_test = train_test_split(X, y, test_size=0.25, random_state=42)\n",
        "\n",
        "# Instantiate RandomForest\n",
        "rf = RandomForest(n_trees=2, max_depth=10, min_samples_split=20, min_samples_leaf=5,\n",
        "                  n_feature=\"sqrt\", bootstrap=True, oob=True, criterion=\"gini\",\n",
        "                  treetype=\"classification\", random_state=42)\n",
        "\n",
        "# Fit the model\n",
        "rf.fit(X_train, y_train)\n"
      ]
    },
    {
      "cell_type": "markdown",
      "metadata": {},
      "source": [
        "Understand the tree structure first"
      ]
    },
    {
      "cell_type": "code",
      "execution_count": 43,
      "metadata": {},
      "outputs": [
        {
          "name": "stdout",
          "output_type": "stream",
          "text": [
            "75\n",
            "-0.6577327560706901\n",
            "0\n"
          ]
        },
        {
          "data": {
            "text/plain": [
              "[(0, 1), (0, 2, 3), (0, 2, 4, 5), (0, 2, 4, 6)]"
            ]
          },
          "execution_count": 43,
          "metadata": {},
          "output_type": "execute_result"
        }
      ],
      "source": [
        "dt =deepcopy(rf.trees[0])\n",
        "rootNode = dt.node_list[0] #??\n",
        "print(rootNode.samples)\n",
        "print(rootNode.threshold)\n",
        "print(rootNode.value)\n",
        "rootNode.left.samples\n",
        "rootNode.right.leaf_node\n",
        "rootNode.right.samples\n",
        "dt._get_y_for_node(rootNode.right)\n",
        "rootNode.right.id\n",
        "rootNode.left.id\n",
        "dt.decision_paths\n"
      ]
    },
    {
      "cell_type": "markdown",
      "metadata": {},
      "source": [
        "## Try a recursive function"
      ]
    },
    {
      "cell_type": "code",
      "execution_count": 55,
      "metadata": {},
      "outputs": [
        {
          "name": "stdout",
          "output_type": "stream",
          "text": [
            "inner node 0 with 75 samples\n",
            "left turn\n",
            "leaf node 1 with 20 samples\n",
            "right turn\n",
            "inner node 2 with 55 samples\n",
            "right turn\n",
            "inner node 4 with 38 samples\n",
            "right turn\n",
            "leaf node 6 with 33 samples\n",
            "2 leaves in total\n"
          ]
        }
      ],
      "source": [
        "def traverseTree(parentNode, numLeafs):\n",
        "    if parentNode.leaf_node:\n",
        "        print(\"leaf node\", parentNode.id, \"with\", parentNode.samples, \"samples\")\n",
        "        return numLeafs+1\n",
        "    else:\n",
        "        print(\"inner node\", parentNode.id, \"with\", parentNode.samples, \"samples\")\n",
        "        if parentNode.left != None:\n",
        "            print(\"left turn\")\n",
        "            numLeafs = traverseTree(parentNode.left,numLeafs)\n",
        "        if parentNode.right != None:\n",
        "            print(\"right turn\")\n",
        "            numLeafs = traverseTree(parentNode.right, numLeafs)\n",
        "        return numLeafs\n",
        "\n",
        "nLeafs = traverseTree(rootNode,0)\n",
        "print(nLeafs, \"leaves in total\")"
      ]
    },
    {
      "cell_type": "markdown",
      "metadata": {},
      "source": [
        "Now we use the same idea of a recursive function to prune:"
      ]
    },
    {
      "cell_type": "code",
      "execution_count": 47,
      "metadata": {},
      "outputs": [
        {
          "name": "stdout",
          "output_type": "stream",
          "text": [
            "inner node 0 with 75 samples and children: 1 2\n",
            "left turn to  1\n",
            "leaf node 1 with 20 samples\n",
            "right turn to  2\n",
            "inner node 2 with 55 samples and children: 3 4\n",
            "\u001b[1mpruning left child 3 with 17 samples\u001b[0m\n",
            "right turn to  4\n",
            "inner node 4 with 38 samples and children: 5 6\n",
            "\u001b[1mpruning left child 5 with 5 samples\u001b[0m\n",
            "right turn to  6\n",
            "leaf node 6 with 33 samples\n",
            "------------ done pruning, now just traversing again:---------------\n",
            "inner node 0 with 75 samples\n",
            "left turn\n",
            "leaf node 1 with 20 samples\n",
            "right turn\n",
            "inner node 2 with 55 samples\n",
            "right turn\n",
            "inner node 4 with 38 samples\n",
            "right turn\n",
            "leaf node 6 with 33 samples\n",
            "2 leaves in total\n"
          ]
        }
      ],
      "source": [
        "import math\n",
        "\n",
        "def pruneTree(parentNode, min_samples_leaf = 10):\n",
        "    if parentNode.leaf_node:\n",
        "        print(\"leaf node\", parentNode.id, \"with\", parentNode.samples, \"samples\")\n",
        "        return\n",
        "    else:\n",
        "        leftChild = parentNode.left\n",
        "        rightChild = parentNode.right\n",
        "        print(\"inner node\", parentNode.id, \"with\", parentNode.samples, \"samples and children:\",leftChild.id, rightChild.id)\n",
        "        if (leftChild.samples < min_samples_leaf) & (rightChild.samples < min_samples_leaf):#easiest case\n",
        "            print('\\033[1m' + \"pruning both children\", leftChild.id, \"with\", leftChild.samples, \"samples\", rightChild.id, \"with\", rightChild.samples, \"samples\" + '\\033[0m')\n",
        "            parentNode.leaf_node = True\n",
        "            parentNode.left = None\n",
        "            parentNode.right = None\n",
        "        elif (leftChild.samples >= min_samples_leaf) & (rightChild.samples >= min_samples_leaf):#also easy\n",
        "            print(\"left turn to \", leftChild.id)\n",
        "            pruneTree(leftChild,min_samples_leaf)\n",
        "            print(\"right turn to \", rightChild.id)\n",
        "            pruneTree(rightChild,min_samples_leaf)\n",
        "        elif leftChild.samples < min_samples_leaf:\n",
        "            print('\\033[1m' + \"pruning left child\", leftChild.id, \"with\", leftChild.samples, \"samples\" + '\\033[0m')\n",
        "            parentNode.left = None\n",
        "            #reminder: left_idxs = np.argwhere(X_column <= split_thresh).flatten()\n",
        "            parentNode.threshold = -math.inf#ideally one should remove this useless inner node\n",
        "            print(\"right turn to \", rightChild.id)\n",
        "            pruneTree(rightChild,min_samples_leaf)\n",
        "        elif rightChild.samples < min_samples_leaf:\n",
        "            print('\\033[1m' + \"pruning right child\", rightChild.id, \"with\", rightChild.samples, \"samples\" + '\\033[0m')\n",
        "            parentNode.right = None\n",
        "            parentNode.threshold = math.inf#ideally one should remove this useless inner node\n",
        "            print(\"left turn to \", leftChild.id)\n",
        "            pruneTree(leftChild,min_samples_leaf)\n",
        "    \n",
        "    #print(\"parent node\", parentNode.id, \"with\", \"children:\",parentNode.left, parentNode.right)\n",
        "    #if (parentNode.left == None) & (parentNode.right == None):\n",
        "    #    parentNode.leaf_node = True\n",
        "\n",
        "dt =deepcopy(rf.trees[0])\n",
        "rootNode = dt.node_list[0] #??\n",
        "\n",
        "pruneTree(rootNode,20)\n",
        "print(\"------------ done pruning, now just traversing again:---------------\")\n",
        "nLeafs = traverseTree(rootNode,0)\n",
        "print(nLeafs, \"leaves in total\")"
      ]
    },
    {
      "cell_type": "markdown",
      "metadata": {},
      "source": [
        "While the routine above sort of works, it needs two major improvements:\n",
        "1. The samples in the pruned nodes are discarded at the moment, whereas I think it would be better to redistribute them along all the children.\n",
        "2. When only one child is pruned, the other surviving one becomes a useless inner node without a split. (I set the split threshold to infinity) So best would be to remove that node."
      ]
    }
  ],
  "metadata": {
    "colab": {
      "provenance": []
    },
    "kernelspec": {
      "display_name": "Python 3",
      "name": "python3"
    },
    "language_info": {
      "codemirror_mode": {
        "name": "ipython",
        "version": 3
      },
      "file_extension": ".py",
      "mimetype": "text/x-python",
      "name": "python",
      "nbconvert_exporter": "python",
      "pygments_lexer": "ipython3",
      "version": "3.9.0"
    }
  },
  "nbformat": 4,
  "nbformat_minor": 0
}
